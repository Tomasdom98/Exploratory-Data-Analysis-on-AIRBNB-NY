{
 "cells": [
  {
   "cell_type": "markdown",
   "id": "b429f550",
   "metadata": {},
   "source": [
    "# New York City Airbnb Open Data\n",
    "Let's use this Dataset from 2019 available on Kaggle:\n",
    "\n",
    "👉 kaggle.com/dgomonov/new-york-city-airbnb-open-data"
   ]
  },
  {
   "cell_type": "code",
   "execution_count": null,
   "id": "bcade809",
   "metadata": {
    "tags": []
   },
   "outputs": [],
   "source": [
    "import pandas as pd\n",
    "import seaborn as sns\n",
    "from matplotlib import pyplot as plt"
   ]
  },
  {
   "cell_type": "code",
   "execution_count": null,
   "id": "dc000a68",
   "metadata": {
    "tags": []
   },
   "outputs": [],
   "source": [
    "listings_df = pd.read_csv('../airbnb/AB_NYC_2019.csv')"
   ]
  },
  {
   "cell_type": "code",
   "execution_count": null,
   "id": "a1a9ccf2",
   "metadata": {
    "tags": []
   },
   "outputs": [],
   "source": [
    "listings_df"
   ]
  },
  {
   "cell_type": "markdown",
   "id": "a31cf9af",
   "metadata": {
    "heading_collapsed": true
   },
   "source": [
    "## Quick look"
   ]
  },
  {
   "cell_type": "code",
   "execution_count": null,
   "id": "44342b23",
   "metadata": {
    "hidden": true,
    "tags": []
   },
   "outputs": [],
   "source": [
    "listings_df.shape"
   ]
  },
  {
   "cell_type": "code",
   "execution_count": null,
   "id": "171ba914",
   "metadata": {
    "hidden": true,
    "tags": []
   },
   "outputs": [],
   "source": [
    "listings_df.columns"
   ]
  },
  {
   "cell_type": "code",
   "execution_count": null,
   "id": "b4e6ecba",
   "metadata": {
    "hidden": true,
    "tags": []
   },
   "outputs": [],
   "source": [
    "listings_df.dtypes"
   ]
  },
  {
   "cell_type": "code",
   "execution_count": null,
   "id": "13cbf63b",
   "metadata": {
    "hidden": true,
    "tags": []
   },
   "outputs": [],
   "source": [
    "listings_df.head()"
   ]
  },
  {
   "cell_type": "code",
   "execution_count": null,
   "id": "37480ffb",
   "metadata": {
    "hidden": true,
    "tags": []
   },
   "outputs": [],
   "source": [
    "listings_df.tail()"
   ]
  },
  {
   "cell_type": "code",
   "execution_count": null,
   "id": "bb82b42e-a5a2-4e3b-bfe8-5d987ac3780d",
   "metadata": {
    "tags": []
   },
   "outputs": [],
   "source": [
    "listings_df.describe()"
   ]
  },
  {
   "cell_type": "markdown",
   "id": "c834dfa9",
   "metadata": {
    "heading_collapsed": true
   },
   "source": [
    "## Cleaning Data"
   ]
  },
  {
   "cell_type": "code",
   "execution_count": null,
   "id": "dc401e21",
   "metadata": {
    "hidden": true,
    "tags": []
   },
   "outputs": [],
   "source": [
    "listings_df.isnull().sum()"
   ]
  },
  {
   "cell_type": "code",
   "execution_count": null,
   "id": "392f9091",
   "metadata": {
    "hidden": true,
    "tags": []
   },
   "outputs": [],
   "source": [
    "columns_to_drop = ['id', 'host_name', 'last_review']\n",
    "\n",
    "listings_df.drop(columns_to_drop, axis=1, inplace=True)\n",
    "\n",
    "listings_df"
   ]
  },
  {
   "cell_type": "code",
   "execution_count": null,
   "id": "b88f8594-ba34-4e77-958f-deabda280f85",
   "metadata": {
    "hidden": true,
    "tags": []
   },
   "outputs": [],
   "source": [
    "listings_df.fillna({'reviews_per_month': 0}, inplace=True)"
   ]
  },
  {
   "cell_type": "code",
   "execution_count": null,
   "id": "0efe24b0",
   "metadata": {
    "hidden": true,
    "tags": []
   },
   "outputs": [],
   "source": [
    "listings_df"
   ]
  },
  {
   "cell_type": "code",
   "execution_count": null,
   "id": "1d65779a-8ee6-4c20-b043-eca05f94ab3c",
   "metadata": {
    "tags": []
   },
   "outputs": [],
   "source": [
    "listings_df.hist(bins = 100, figsize= (20,15))"
   ]
  },
  {
   "cell_type": "markdown",
   "id": "79d15e00",
   "metadata": {
    "heading_collapsed": true
   },
   "source": [
    "## Columns & Rows"
   ]
  },
  {
   "cell_type": "code",
   "execution_count": null,
   "id": "c64fad51",
   "metadata": {
    "hidden": true,
    "tags": []
   },
   "outputs": [],
   "source": [
    "listings_df['name'] # => Series"
   ]
  },
  {
   "cell_type": "code",
   "execution_count": null,
   "id": "1543ef03",
   "metadata": {
    "hidden": true,
    "tags": []
   },
   "outputs": [],
   "source": [
    "listings_df[['name', 'neighbourhood_group', 'price']] # => DataFrame"
   ]
  },
  {
   "cell_type": "code",
   "execution_count": null,
   "id": "c92507b0",
   "metadata": {
    "hidden": true,
    "tags": []
   },
   "outputs": [],
   "source": [
    "listings_df[5:10]"
   ]
  },
  {
   "cell_type": "code",
   "execution_count": null,
   "id": "ad3a26e4-7a5f-4d54-a372-114c7e50b2a6",
   "metadata": {
    "tags": []
   },
   "outputs": [],
   "source": [
    "listings_df[5:10][['name', 'neighbourhood_group', 'price']]"
   ]
  },
  {
   "cell_type": "code",
   "execution_count": null,
   "id": "ff578055",
   "metadata": {
    "hidden": true,
    "tags": []
   },
   "outputs": [],
   "source": [
    "listings_df['price'] < 100"
   ]
  },
  {
   "cell_type": "code",
   "execution_count": null,
   "id": "0723a120",
   "metadata": {
    "hidden": true,
    "tags": []
   },
   "outputs": [],
   "source": [
    "listings_df[listings_df['price'] < 100]"
   ]
  },
  {
   "cell_type": "markdown",
   "id": "b0b4c8c6",
   "metadata": {},
   "source": [
    "## Exploratory Data Analysis"
   ]
  },
  {
   "cell_type": "code",
   "execution_count": null,
   "id": "dc4e0885",
   "metadata": {
    "tags": []
   },
   "outputs": [],
   "source": [
    "# 🤔 What are the 10 most reviewed listings?\n",
    "\n",
    "listings_df.nlargest(10, 'number_of_reviews')"
   ]
  },
  {
   "cell_type": "code",
   "execution_count": null,
   "id": "77f6abb3",
   "metadata": {
    "tags": []
   },
   "outputs": [],
   "source": [
    "# 🤔 What are the NY neighourhood groups with listings?\n",
    "\n",
    "listings_df['neighbourhood_group'].unique()"
   ]
  },
  {
   "cell_type": "code",
   "execution_count": null,
   "id": "96143f28",
   "metadata": {
    "tags": []
   },
   "outputs": [],
   "source": [
    "# 🤔 Follow-up: How many listings per neighbourhood group?\n",
    "\n",
    "listings_df['neighbourhood_group'].value_counts()"
   ]
  },
  {
   "cell_type": "code",
   "execution_count": null,
   "id": "9929fe70",
   "metadata": {
    "tags": []
   },
   "outputs": [],
   "source": [
    "# 🤔 What are the Top 10 neighbourhoods with Airbnb listings?\n",
    "\n",
    "listings_df['neighbourhood'].value_counts().head(10)"
   ]
  },
  {
   "cell_type": "code",
   "execution_count": null,
   "id": "7050d842",
   "metadata": {
    "tags": []
   },
   "outputs": [],
   "source": [
    "listings_df['neighbourhood'].value_counts().head(10).plot(kind='bar')"
   ]
  },
  {
   "cell_type": "code",
   "execution_count": null,
   "id": "12a02a01",
   "metadata": {
    "tags": []
   },
   "outputs": [],
   "source": [
    "sns.countplot(data=listings_df, x='neighbourhood_group')"
   ]
  },
  {
   "cell_type": "code",
   "execution_count": null,
   "id": "bc11adf2",
   "metadata": {
    "tags": []
   },
   "outputs": [],
   "source": [
    "order = listings_df['neighbourhood_group'].value_counts().index\n",
    "\n",
    "sns.countplot(data=listings_df, x='neighbourhood_group', order=order)"
   ]
  },
  {
   "cell_type": "code",
   "execution_count": null,
   "id": "d0398103",
   "metadata": {
    "tags": []
   },
   "outputs": [],
   "source": [
    "# 🤔 What's the influence neighbourhood group on room type?\n",
    "\n",
    "# FYI, here are the room types:\n",
    "\n",
    "listings_df['room_type'].unique()"
   ]
  },
  {
   "cell_type": "code",
   "execution_count": null,
   "id": "cf5bdfd1",
   "metadata": {
    "tags": []
   },
   "outputs": [],
   "source": [
    "sns.countplot(data=listings_df, x=\"neighbourhood_group\", hue=\"room_type\")"
   ]
  },
  {
   "cell_type": "code",
   "execution_count": null,
   "id": "fe0d694c",
   "metadata": {
    "tags": []
   },
   "outputs": [],
   "source": [
    "# 🤔 What is the distribution of listing prices?\n",
    "\n",
    "# We can use a Distplot:\n",
    "\n",
    "sns.distplot(listings_df['price'])"
   ]
  },
  {
   "cell_type": "code",
   "execution_count": null,
   "id": "3e68ce4f",
   "metadata": {
    "tags": []
   },
   "outputs": [],
   "source": [
    "# How many listings are more expensive than 500$/night? Could we remove those outliers from the visualization? What technique can we use?\n",
    "\n",
    "affordable_df = listings_df[listings_df['price'] <= 500]\n",
    "sns.distplot(affordable_df['price'])\n",
    "\n",
    "#nombrar esas curvas, sentimiento humano de ponerlo mas barato"
   ]
  },
  {
   "cell_type": "code",
   "execution_count": null,
   "id": "91a632ee",
   "metadata": {
    "tags": []
   },
   "outputs": [],
   "source": [
    "listings_df.price.mean() "
   ]
  },
  {
   "cell_type": "code",
   "execution_count": null,
   "id": "fdd5029d",
   "metadata": {
    "tags": []
   },
   "outputs": [],
   "source": [
    "affordable_df.price.mean()"
   ]
  },
  {
   "cell_type": "code",
   "execution_count": null,
   "id": "4bf4b96d",
   "metadata": {
    "tags": []
   },
   "outputs": [],
   "source": [
    "# 🤔 What is the distribution of listing prices based on the Neighbourhood Group?\n",
    "\n",
    "#We can use a Violinplot:\n",
    "\n",
    "plt.figure(figsize=(14,10))\n",
    "sns.violinplot(data=affordable_df, x=\"neighbourhood_group\", y=\"price\")"
   ]
  },
  {
   "cell_type": "code",
   "execution_count": null,
   "id": "e8f727e7-4591-4a5a-8558-57ecf48202f7",
   "metadata": {
    "tags": []
   },
   "outputs": [],
   "source": [
    "\n",
    "affordable_df.plot(kind='scatter',x='longitude',y='latitude', figsize=(14,10)) #alpha = 0.1"
   ]
  },
  {
   "cell_type": "code",
   "execution_count": null,
   "id": "ae96cdc5",
   "metadata": {
    "tags": []
   },
   "outputs": [],
   "source": [
    "# 🤔 Can we plot the listings on a map?\n",
    "\n",
    "# Back to matplotlib, we can use a scatterplot:\n",
    "    \n",
    "affordable_df.plot(\n",
    "kind='scatter',\n",
    "x='longitude',\n",
    "y='latitude',\n",
    "c='price',\n",
    "cmap='inferno',\n",
    "colorbar=True,\n",
    "alpha=0.8,\n",
    "figsize=(14,10))"
   ]
  },
  {
   "cell_type": "code",
   "execution_count": null,
   "id": "9251ba8b",
   "metadata": {
    "tags": []
   },
   "outputs": [],
   "source": [
    "# Bonus: Adding NYC map underneath!\n",
    "\n",
    "background_image = plt.imread('https://raw.githubusercontent.com/lewagon/data-images/master/workshops/Neighbourhoods_New_York_City_Map.png')\n",
    "plt.imshow(background_image, zorder=0, extent=[-74.258, -73.7, 40.49, 40.92])\n",
    "\n",
    "ax = plt.gca()\n",
    "affordable_df.plot(\n",
    "  ax=ax,\n",
    "  zorder=1,\n",
    "  kind='scatter',\n",
    "  x='longitude',\n",
    "  y='latitude',\n",
    "  c='price',\n",
    "  cmap='inferno',\n",
    "  colorbar=True,\n",
    "  alpha=0.8,\n",
    "  figsize=(14,10))"
   ]
  },
  {
   "cell_type": "code",
   "execution_count": null,
   "id": "359dfc5f-dde4-4a21-8458-998e297a1d80",
   "metadata": {
    "tags": []
   },
   "outputs": [],
   "source": [
    "import folium\n",
    "\n",
    "map = folium.Map(location = [40.42,-74.00], zoom_starts = 5)\n",
    "map"
   ]
  },
  {
   "cell_type": "code",
   "execution_count": null,
   "id": "54ce8c61-c38b-4ada-8c04-8d88619bce21",
   "metadata": {
    "tags": []
   },
   "outputs": [],
   "source": [
    "districts = affordable_df[['latitude', 'longitude']].to_numpy()\n",
    "districts"
   ]
  },
  {
   "cell_type": "code",
   "execution_count": null,
   "id": "40b487ed-a37f-4dd7-875f-8b65e8b1b99b",
   "metadata": {
    "tags": []
   },
   "outputs": [],
   "source": [
    "from folium import plugins\n",
    "from folium.plugins import HeatMap\n",
    "\n",
    "HeatMap(districts, radius= 15, max_val= 0.1, min_opacity = 0.4).add_to(map)\n",
    "\n",
    "map"
   ]
  },
  {
   "cell_type": "code",
   "execution_count": null,
   "id": "e4a9ffe8-1576-4abf-a497-d6265bd18216",
   "metadata": {},
   "outputs": [],
   "source": []
  },
  {
   "cell_type": "code",
   "execution_count": null,
   "id": "bd5e13f6-ad56-480f-982a-cb1e011cc7ab",
   "metadata": {},
   "outputs": [],
   "source": []
  },
  {
   "cell_type": "code",
   "execution_count": null,
   "id": "c44996ab-85ac-4b16-8406-e2ba597a1fd9",
   "metadata": {},
   "outputs": [],
   "source": []
  },
  {
   "cell_type": "code",
   "execution_count": null,
   "id": "9fb94b17-f22e-4fb5-9d52-475354cddb3c",
   "metadata": {},
   "outputs": [],
   "source": []
  },
  {
   "cell_type": "code",
   "execution_count": null,
   "id": "a2aac43f-d1fa-4f2d-af27-b65080cfb0f3",
   "metadata": {},
   "outputs": [],
   "source": []
  }
 ],
 "metadata": {
  "kernelspec": {
   "display_name": "Python 3 (ipykernel)",
   "language": "python",
   "name": "python3"
  },
  "language_info": {
   "codemirror_mode": {
    "name": "ipython",
    "version": 3
   },
   "file_extension": ".py",
   "mimetype": "text/x-python",
   "name": "python",
   "nbconvert_exporter": "python",
   "pygments_lexer": "ipython3",
   "version": "3.8.12"
  },
  "toc": {
   "base_numbering": 1,
   "nav_menu": {},
   "number_sections": true,
   "sideBar": true,
   "skip_h1_title": false,
   "title_cell": "Table of Contents",
   "title_sidebar": "Contents",
   "toc_cell": false,
   "toc_position": {},
   "toc_section_display": true,
   "toc_window_display": false
  }
 },
 "nbformat": 4,
 "nbformat_minor": 5
}
